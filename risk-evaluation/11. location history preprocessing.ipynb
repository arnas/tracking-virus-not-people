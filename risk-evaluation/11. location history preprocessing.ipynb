{
 "cells": [
  {
   "cell_type": "code",
   "execution_count": null,
   "metadata": {},
   "outputs": [],
   "source": [
    "import pandas as pd\n",
    "import numpy as np\n",
    "import json"
   ]
  },
  {
   "cell_type": "code",
   "execution_count": null,
   "metadata": {},
   "outputs": [],
   "source": [
    "data_path_1 = 'Data/2020_MARCH.json'\n",
    "data_path_2 = 'Data/2020_FEBRUARY.json'"
   ]
  },
  {
   "cell_type": "code",
   "execution_count": null,
   "metadata": {},
   "outputs": [],
   "source": [
    "def location_history_processing_pipeline(raw_json_file_locations):\n",
    "    raw_json = concat_src_files(raw_json_file_locations)\n",
    "    places_df, location_df = extract_location_information_from_raw(raw_json)\n",
    "    return location_df"
   ]
  },
  {
   "cell_type": "code",
   "execution_count": null,
   "metadata": {},
   "outputs": [],
   "source": [
    "def concat_src_files(raw_json_file_locations):\n",
    "    all_data = []\n",
    "    for file in raw_json_file_locations:\n",
    "        print(file)\n",
    "        json_data = json.load(open(file, 'rb'))\n",
    "        all_data += json_data['timelineObjects']\n",
    "    return {'timelineObjects': all_data}"
   ]
  },
  {
   "cell_type": "code",
   "execution_count": null,
   "metadata": {},
   "outputs": [],
   "source": [
    "def extract_location_information_from_raw(raw_json):\n",
    "    places_data = []\n",
    "    location_data = []\n",
    "\n",
    "    for json_dict in raw_json['timelineObjects']:\n",
    "        if \"placeVisit\" in json_dict:\n",
    "            places_data.append(json_dict['placeVisit'])\n",
    "            location_dict = json_dict['placeVisit']['location']\n",
    "            location_dict['visit_start_time'] = json_dict['placeVisit']['duration']['startTimestampMs']\n",
    "            location_dict['visit_end_time'] = json_dict['placeVisit']['duration']['endTimestampMs']\n",
    "            location_dict['visit_start_datetime'] = pd.to_datetime(location_dict['visit_start_time'], unit='ms')\n",
    "\n",
    "            location_data.append(location_dict)\n",
    "    return pd.DataFrame(places_data), pd.DataFrame(location_data)"
   ]
  },
  {
   "cell_type": "code",
   "execution_count": null,
   "metadata": {
    "scrolled": true
   },
   "outputs": [],
   "source": [
    "df1 = location_history_processing_pipeline([data_path_1, data_path_2])"
   ]
  },
  {
   "cell_type": "code",
   "execution_count": null,
   "metadata": {
    "scrolled": true
   },
   "outputs": [],
   "source": [
    "df1.to_csv('Data/user_data.csv')"
   ]
  },
  {
   "cell_type": "code",
   "execution_count": null,
   "metadata": {},
   "outputs": [],
   "source": [
    "df1.sort_values('visit_start_datetime')"
   ]
  },
  {
   "cell_type": "code",
   "execution_count": null,
   "metadata": {},
   "outputs": [],
   "source": []
  }
 ],
 "metadata": {
  "kernelspec": {
   "display_name": "Python 3",
   "language": "python",
   "name": "python3"
  },
  "language_info": {
   "codemirror_mode": {
    "name": "ipython",
    "version": 3
   },
   "file_extension": ".py",
   "mimetype": "text/x-python",
   "name": "python",
   "nbconvert_exporter": "python",
   "pygments_lexer": "ipython3",
   "version": "3.6.0"
  }
 },
 "nbformat": 4,
 "nbformat_minor": 2
}
