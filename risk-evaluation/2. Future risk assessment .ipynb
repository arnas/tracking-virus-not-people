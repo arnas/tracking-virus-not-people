{
 "cells": [
  {
   "cell_type": "code",
   "execution_count": null,
   "metadata": {},
   "outputs": [],
   "source": [
    "import pandas as pd\n",
    "import numpy as np\n",
    "from datetime import datetime"
   ]
  },
  {
   "cell_type": "code",
   "execution_count": null,
   "metadata": {},
   "outputs": [],
   "source": [
    "user_data_path = 'Data/user_data.csv'\n",
    "covid_cases_data_path = 'covid-cases-coordinates.csv'"
   ]
  },
  {
   "cell_type": "code",
   "execution_count": null,
   "metadata": {},
   "outputs": [],
   "source": [
    "user_data = pd.read_csv(user_data_path)\n",
    "covid_data = pd.read_csv(covid_cases_data_path)"
   ]
  },
  {
   "cell_type": "code",
   "execution_count": null,
   "metadata": {},
   "outputs": [],
   "source": [
    "def get_future_risk_score(user_data, past_number_of_weeks):\n",
    "    curr_date = datetime.now()\n",
    "    user_data['number_of_days_passed'] = user_data['visit_start_time'].apply(lambda x: (curr_date - datetime.fromtimestamp(x/1000)).days)\n",
    "    user_data = add_required_time_information(user_data)\n",
    "    home_addresses = get_possible_work_and_home_places(user_data)\n",
    "    final_score = get_final_percentage_of_time_spent_in_places(user_data, home_addresses, past_number_of_weeks)\n",
    "    visited_public_places = get_public_places_visited_per_weeks(user_data, past_number_of_weeks, home_addresses)\n",
    "    return final_score, visited_public_places"
   ]
  },
  {
   "cell_type": "code",
   "execution_count": null,
   "metadata": {},
   "outputs": [],
   "source": [
    "def get_public_places_visited_per_weeks(user_data, past_number_of_weeks, home_addresses):\n",
    "     user_data = get_last_days_data(user_data, past_number_of_weeks*7)\n",
    "     return user_data[~user_data['name'].isin(home_addresses)]"
   ]
  },
  {
   "cell_type": "code",
   "execution_count": null,
   "metadata": {},
   "outputs": [],
   "source": [
    "def get_final_percentage_of_time_spent_in_places(user_data, home_addresses, past_number_of_weeks):\n",
    "    last_weeks_df = get_last_days_data(user_data, past_number_of_weeks * 7)\n",
    "    time_spent_outside = last_weeks_df.groupby('week_day').apply(lambda x: sum(x[~x['name'].isin(home_addresses)]['time_spent_in_location'])/12)\n",
    "    mean_time_spent_outside_per_day = time_spent_outside / past_number_of_weeks\n",
    "    return np.mean(mean_time_spent_outside_per_day)"
   ]
  },
  {
   "cell_type": "code",
   "execution_count": null,
   "metadata": {
    "scrolled": true
   },
   "outputs": [],
   "source": [
    "def get_last_days_data(user_data, number_of_days):\n",
    "    return user_data[user_data['number_of_days_passed'] <= number_of_days].sort_values('number_of_days_passed')"
   ]
  },
  {
   "cell_type": "code",
   "execution_count": null,
   "metadata": {},
   "outputs": [],
   "source": [
    "def add_required_time_information(user_data):\n",
    "    user_data['week_day'] = user_data['visit_start_time'].apply(lambda x: datetime.fromtimestamp(x/1000).weekday())\n",
    "    user_data['time_spent_in_location'] = user_data.apply(lambda x: (datetime.fromtimestamp(x['visit_end_time']//1000) - datetime.fromtimestamp(x['visit_start_time']//1000)).seconds/3600, axis=1)\n",
    "    return user_data"
   ]
  },
  {
   "cell_type": "code",
   "execution_count": null,
   "metadata": {},
   "outputs": [],
   "source": [
    "def get_possible_work_and_home_places(user_data):\n",
    "    long_time_locations = user_data[user_data['time_spent_in_location'] > 4]['name'].unique()\n",
    "    percentage_of_time_spent_per_location = user_data.groupby('name').apply(lambda x: sum(x['time_spent_in_location'])).sort_values()/sum(user_data['time_spent_in_location'])\n",
    "    work_home_addresses = [location for location in long_time_locations if percentage_of_time_spent_per_location[location] > 0.1]\n",
    "    print(work_home_addresses)\n",
    "    return work_home_addresses"
   ]
  },
  {
   "cell_type": "code",
   "execution_count": null,
   "metadata": {},
   "outputs": [],
   "source": [
    "def get_public_place_visits(user_data):\n",
    "    return user_data[user_data.apply(lambda x: x['name'] not in x['address'], axis=1)]"
   ]
  },
  {
   "cell_type": "code",
   "execution_count": null,
   "metadata": {
    "scrolled": true
   },
   "outputs": [],
   "source": [
    "score, df_public = get_future_risk_score(user_data, past_number_of_weeks=1)"
   ]
  },
  {
   "cell_type": "code",
   "execution_count": null,
   "metadata": {
    "scrolled": true
   },
   "outputs": [],
   "source": [
    "user_data"
   ]
  },
  {
   "cell_type": "code",
   "execution_count": null,
   "metadata": {},
   "outputs": [],
   "source": []
  }
 ],
 "metadata": {
  "kernelspec": {
   "display_name": "Python 3",
   "language": "python",
   "name": "python3"
  },
  "language_info": {
   "codemirror_mode": {
    "name": "ipython",
    "version": 3
   },
   "file_extension": ".py",
   "mimetype": "text/x-python",
   "name": "python",
   "nbconvert_exporter": "python",
   "pygments_lexer": "ipython3",
   "version": "3.6.0"
  }
 },
 "nbformat": 4,
 "nbformat_minor": 2
}
