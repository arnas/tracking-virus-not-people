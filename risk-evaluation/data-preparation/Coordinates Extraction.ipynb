{
 "cells": [
  {
   "cell_type": "code",
   "execution_count": 2,
   "metadata": {},
   "outputs": [],
   "source": [
    "import pandas as pd\n",
    "import json\n",
    "import re"
   ]
  },
  {
   "cell_type": "code",
   "execution_count": 3,
   "metadata": {},
   "outputs": [],
   "source": [
    "cases = pd.read_csv(\"../extracted_cases.csv\", encoding = \"utf-8-sig\")"
   ]
  },
  {
   "cell_type": "code",
   "execution_count": 4,
   "metadata": {},
   "outputs": [],
   "source": [
    "old_cases = json.load(open('../data-old.json', encoding='utf-8'))"
   ]
  },
  {
   "cell_type": "code",
   "execution_count": 5,
   "metadata": {},
   "outputs": [],
   "source": [
    "old_cases_df = pd.DataFrame(old_cases)"
   ]
  },
  {
   "cell_type": "code",
   "execution_count": 6,
   "metadata": {},
   "outputs": [
    {
     "name": "stdout",
     "output_type": "stream",
     "text": [
      "Collecting geopy\n",
      "  Using cached https://files.pythonhosted.org/packages/53/fc/3d1b47e8e82ea12c25203929efb1b964918a77067a874b2c7631e2ec35ec/geopy-1.21.0-py2.py3-none-any.whl\n",
      "Collecting geographiclib<2,>=1.49 (from geopy)\n",
      "  Using cached https://files.pythonhosted.org/packages/8b/62/26ec95a98ba64299163199e95ad1b0e34ad3f4e176e221c40245f211e425/geographiclib-1.50-py3-none-any.whl\n",
      "Installing collected packages: geographiclib, geopy\n",
      "Successfully installed geographiclib-1.50 geopy-1.21.0\n"
     ]
    },
    {
     "name": "stderr",
     "output_type": "stream",
     "text": [
      "You are using pip version 10.0.1, however version 20.0.2 is available.\n",
      "You should consider upgrading via the 'python -m pip install --upgrade pip' command.\n"
     ]
    }
   ],
   "source": [
    "!pip install geopy"
   ]
  },
  {
   "cell_type": "code",
   "execution_count": 7,
   "metadata": {},
   "outputs": [
    {
     "name": "stderr",
     "output_type": "stream",
     "text": [
      "c:\\users\\modestasj\\appdata\\local\\programs\\python\\python36\\lib\\site-packages\\ipykernel_launcher.py:3: DeprecationWarning: Using Nominatim with the default \"geopy/1.21.0\" `user_agent` is strongly discouraged, as it violates Nominatim's ToS https://operations.osmfoundation.org/policies/nominatim/ and may possibly cause 403 and 429 HTTP errors. Please specify a custom `user_agent` with `Nominatim(user_agent=\"my-application\")` or by overriding the default `user_agent`: `geopy.geocoders.options.default_user_agent = \"my-application\"`. In geopy 2.0 this will become an exception.\n",
      "  This is separate from the ipykernel package so we can avoid doing imports until\n"
     ]
    }
   ],
   "source": [
    "from geopy.geocoders import Nominatim\n",
    "\n",
    "geolocator = Nominatim()"
   ]
  },
  {
   "cell_type": "code",
   "execution_count": 8,
   "metadata": {},
   "outputs": [],
   "source": [
    "geolocator.geocode(\"Lietuva belgu g. 5 klaipeda\")"
   ]
  },
  {
   "cell_type": "code",
   "execution_count": 9,
   "metadata": {},
   "outputs": [
    {
     "ename": "KeyboardInterrupt",
     "evalue": "",
     "output_type": "error",
     "traceback": [
      "\u001b[1;31m---------------------------------------------------------------------------\u001b[0m",
      "\u001b[1;31mKeyboardInterrupt\u001b[0m                         Traceback (most recent call last)",
      "\u001b[1;32m<ipython-input-9-168105b31e68>\u001b[0m in \u001b[0;36m<module>\u001b[1;34m\u001b[0m\n\u001b[1;32m----> 1\u001b[1;33m \u001b[0mgeolocator\u001b[0m\u001b[1;33m.\u001b[0m\u001b[0mgeocode\u001b[0m\u001b[1;33m(\u001b[0m\u001b[1;34mf\"Lietuva belgu g. 5 klaipeda\"\u001b[0m\u001b[1;33m)\u001b[0m\u001b[1;33m\u001b[0m\u001b[0m\n\u001b[0m",
      "\u001b[1;32mc:\\users\\modestasj\\appdata\\local\\programs\\python\\python36\\lib\\site-packages\\geopy\\geocoders\\osm.py\u001b[0m in \u001b[0;36mgeocode\u001b[1;34m(self, query, exactly_one, timeout, limit, addressdetails, language, geometry, extratags, country_codes, viewbox, bounded, featuretype, namedetails)\u001b[0m\n\u001b[0;32m    404\u001b[0m \u001b[1;33m\u001b[0m\u001b[0m\n\u001b[0;32m    405\u001b[0m         return self._parse_json(\n\u001b[1;32m--> 406\u001b[1;33m             \u001b[0mself\u001b[0m\u001b[1;33m.\u001b[0m\u001b[0m_call_geocoder\u001b[0m\u001b[1;33m(\u001b[0m\u001b[0murl\u001b[0m\u001b[1;33m,\u001b[0m \u001b[0mtimeout\u001b[0m\u001b[1;33m=\u001b[0m\u001b[0mtimeout\u001b[0m\u001b[1;33m)\u001b[0m\u001b[1;33m,\u001b[0m \u001b[0mexactly_one\u001b[0m\u001b[1;33m\u001b[0m\u001b[0m\n\u001b[0m\u001b[0;32m    407\u001b[0m         )\n\u001b[0;32m    408\u001b[0m \u001b[1;33m\u001b[0m\u001b[0m\n",
      "\u001b[1;32mc:\\users\\modestasj\\appdata\\local\\programs\\python\\python36\\lib\\site-packages\\geopy\\geocoders\\base.py\u001b[0m in \u001b[0;36m_call_geocoder\u001b[1;34m(self, url, timeout, raw, requester, deserializer, **kwargs)\u001b[0m\n\u001b[0;32m    353\u001b[0m \u001b[1;33m\u001b[0m\u001b[0m\n\u001b[0;32m    354\u001b[0m         \u001b[1;32mtry\u001b[0m\u001b[1;33m:\u001b[0m\u001b[1;33m\u001b[0m\u001b[0m\n\u001b[1;32m--> 355\u001b[1;33m             \u001b[0mpage\u001b[0m \u001b[1;33m=\u001b[0m \u001b[0mrequester\u001b[0m\u001b[1;33m(\u001b[0m\u001b[0mreq\u001b[0m\u001b[1;33m,\u001b[0m \u001b[0mtimeout\u001b[0m\u001b[1;33m=\u001b[0m\u001b[0mtimeout\u001b[0m\u001b[1;33m,\u001b[0m \u001b[1;33m**\u001b[0m\u001b[0mkwargs\u001b[0m\u001b[1;33m)\u001b[0m\u001b[1;33m\u001b[0m\u001b[0m\n\u001b[0m\u001b[0;32m    356\u001b[0m         \u001b[1;32mexcept\u001b[0m \u001b[0mException\u001b[0m \u001b[1;32mas\u001b[0m \u001b[0merror\u001b[0m\u001b[1;33m:\u001b[0m\u001b[1;33m\u001b[0m\u001b[0m\n\u001b[0;32m    357\u001b[0m             message = (\n",
      "\u001b[1;32mc:\\users\\modestasj\\appdata\\local\\programs\\python\\python36\\lib\\urllib\\request.py\u001b[0m in \u001b[0;36mopen\u001b[1;34m(self, fullurl, data, timeout)\u001b[0m\n\u001b[0;32m    524\u001b[0m             \u001b[0mreq\u001b[0m \u001b[1;33m=\u001b[0m \u001b[0mmeth\u001b[0m\u001b[1;33m(\u001b[0m\u001b[0mreq\u001b[0m\u001b[1;33m)\u001b[0m\u001b[1;33m\u001b[0m\u001b[0m\n\u001b[0;32m    525\u001b[0m \u001b[1;33m\u001b[0m\u001b[0m\n\u001b[1;32m--> 526\u001b[1;33m         \u001b[0mresponse\u001b[0m \u001b[1;33m=\u001b[0m \u001b[0mself\u001b[0m\u001b[1;33m.\u001b[0m\u001b[0m_open\u001b[0m\u001b[1;33m(\u001b[0m\u001b[0mreq\u001b[0m\u001b[1;33m,\u001b[0m \u001b[0mdata\u001b[0m\u001b[1;33m)\u001b[0m\u001b[1;33m\u001b[0m\u001b[0m\n\u001b[0m\u001b[0;32m    527\u001b[0m \u001b[1;33m\u001b[0m\u001b[0m\n\u001b[0;32m    528\u001b[0m         \u001b[1;31m# post-process response\u001b[0m\u001b[1;33m\u001b[0m\u001b[1;33m\u001b[0m\u001b[0m\n",
      "\u001b[1;32mc:\\users\\modestasj\\appdata\\local\\programs\\python\\python36\\lib\\urllib\\request.py\u001b[0m in \u001b[0;36m_open\u001b[1;34m(self, req, data)\u001b[0m\n\u001b[0;32m    542\u001b[0m         \u001b[0mprotocol\u001b[0m \u001b[1;33m=\u001b[0m \u001b[0mreq\u001b[0m\u001b[1;33m.\u001b[0m\u001b[0mtype\u001b[0m\u001b[1;33m\u001b[0m\u001b[0m\n\u001b[0;32m    543\u001b[0m         result = self._call_chain(self.handle_open, protocol, protocol +\n\u001b[1;32m--> 544\u001b[1;33m                                   '_open', req)\n\u001b[0m\u001b[0;32m    545\u001b[0m         \u001b[1;32mif\u001b[0m \u001b[0mresult\u001b[0m\u001b[1;33m:\u001b[0m\u001b[1;33m\u001b[0m\u001b[0m\n\u001b[0;32m    546\u001b[0m             \u001b[1;32mreturn\u001b[0m \u001b[0mresult\u001b[0m\u001b[1;33m\u001b[0m\u001b[0m\n",
      "\u001b[1;32mc:\\users\\modestasj\\appdata\\local\\programs\\python\\python36\\lib\\urllib\\request.py\u001b[0m in \u001b[0;36m_call_chain\u001b[1;34m(self, chain, kind, meth_name, *args)\u001b[0m\n\u001b[0;32m    502\u001b[0m         \u001b[1;32mfor\u001b[0m \u001b[0mhandler\u001b[0m \u001b[1;32min\u001b[0m \u001b[0mhandlers\u001b[0m\u001b[1;33m:\u001b[0m\u001b[1;33m\u001b[0m\u001b[0m\n\u001b[0;32m    503\u001b[0m             \u001b[0mfunc\u001b[0m \u001b[1;33m=\u001b[0m \u001b[0mgetattr\u001b[0m\u001b[1;33m(\u001b[0m\u001b[0mhandler\u001b[0m\u001b[1;33m,\u001b[0m \u001b[0mmeth_name\u001b[0m\u001b[1;33m)\u001b[0m\u001b[1;33m\u001b[0m\u001b[0m\n\u001b[1;32m--> 504\u001b[1;33m             \u001b[0mresult\u001b[0m \u001b[1;33m=\u001b[0m \u001b[0mfunc\u001b[0m\u001b[1;33m(\u001b[0m\u001b[1;33m*\u001b[0m\u001b[0margs\u001b[0m\u001b[1;33m)\u001b[0m\u001b[1;33m\u001b[0m\u001b[0m\n\u001b[0m\u001b[0;32m    505\u001b[0m             \u001b[1;32mif\u001b[0m \u001b[0mresult\u001b[0m \u001b[1;32mis\u001b[0m \u001b[1;32mnot\u001b[0m \u001b[1;32mNone\u001b[0m\u001b[1;33m:\u001b[0m\u001b[1;33m\u001b[0m\u001b[0m\n\u001b[0;32m    506\u001b[0m                 \u001b[1;32mreturn\u001b[0m \u001b[0mresult\u001b[0m\u001b[1;33m\u001b[0m\u001b[0m\n",
      "\u001b[1;32mc:\\users\\modestasj\\appdata\\local\\programs\\python\\python36\\lib\\urllib\\request.py\u001b[0m in \u001b[0;36mhttps_open\u001b[1;34m(self, req)\u001b[0m\n\u001b[0;32m   1359\u001b[0m         \u001b[1;32mdef\u001b[0m \u001b[0mhttps_open\u001b[0m\u001b[1;33m(\u001b[0m\u001b[0mself\u001b[0m\u001b[1;33m,\u001b[0m \u001b[0mreq\u001b[0m\u001b[1;33m)\u001b[0m\u001b[1;33m:\u001b[0m\u001b[1;33m\u001b[0m\u001b[0m\n\u001b[0;32m   1360\u001b[0m             return self.do_open(http.client.HTTPSConnection, req,\n\u001b[1;32m-> 1361\u001b[1;33m                 context=self._context, check_hostname=self._check_hostname)\n\u001b[0m\u001b[0;32m   1362\u001b[0m \u001b[1;33m\u001b[0m\u001b[0m\n\u001b[0;32m   1363\u001b[0m         \u001b[0mhttps_request\u001b[0m \u001b[1;33m=\u001b[0m \u001b[0mAbstractHTTPHandler\u001b[0m\u001b[1;33m.\u001b[0m\u001b[0mdo_request_\u001b[0m\u001b[1;33m\u001b[0m\u001b[0m\n",
      "\u001b[1;32mc:\\users\\modestasj\\appdata\\local\\programs\\python\\python36\\lib\\urllib\\request.py\u001b[0m in \u001b[0;36mdo_open\u001b[1;34m(self, http_class, req, **http_conn_args)\u001b[0m\n\u001b[0;32m   1316\u001b[0m             \u001b[1;32mtry\u001b[0m\u001b[1;33m:\u001b[0m\u001b[1;33m\u001b[0m\u001b[0m\n\u001b[0;32m   1317\u001b[0m                 h.request(req.get_method(), req.selector, req.data, headers,\n\u001b[1;32m-> 1318\u001b[1;33m                           encode_chunked=req.has_header('Transfer-encoding'))\n\u001b[0m\u001b[0;32m   1319\u001b[0m             \u001b[1;32mexcept\u001b[0m \u001b[0mOSError\u001b[0m \u001b[1;32mas\u001b[0m \u001b[0merr\u001b[0m\u001b[1;33m:\u001b[0m \u001b[1;31m# timeout error\u001b[0m\u001b[1;33m\u001b[0m\u001b[0m\n\u001b[0;32m   1320\u001b[0m                 \u001b[1;32mraise\u001b[0m \u001b[0mURLError\u001b[0m\u001b[1;33m(\u001b[0m\u001b[0merr\u001b[0m\u001b[1;33m)\u001b[0m\u001b[1;33m\u001b[0m\u001b[0m\n",
      "\u001b[1;32mc:\\users\\modestasj\\appdata\\local\\programs\\python\\python36\\lib\\http\\client.py\u001b[0m in \u001b[0;36mrequest\u001b[1;34m(self, method, url, body, headers, encode_chunked)\u001b[0m\n\u001b[0;32m   1237\u001b[0m                 encode_chunked=False):\n\u001b[0;32m   1238\u001b[0m         \u001b[1;34m\"\"\"Send a complete request to the server.\"\"\"\u001b[0m\u001b[1;33m\u001b[0m\u001b[0m\n\u001b[1;32m-> 1239\u001b[1;33m         \u001b[0mself\u001b[0m\u001b[1;33m.\u001b[0m\u001b[0m_send_request\u001b[0m\u001b[1;33m(\u001b[0m\u001b[0mmethod\u001b[0m\u001b[1;33m,\u001b[0m \u001b[0murl\u001b[0m\u001b[1;33m,\u001b[0m \u001b[0mbody\u001b[0m\u001b[1;33m,\u001b[0m \u001b[0mheaders\u001b[0m\u001b[1;33m,\u001b[0m \u001b[0mencode_chunked\u001b[0m\u001b[1;33m)\u001b[0m\u001b[1;33m\u001b[0m\u001b[0m\n\u001b[0m\u001b[0;32m   1240\u001b[0m \u001b[1;33m\u001b[0m\u001b[0m\n\u001b[0;32m   1241\u001b[0m     \u001b[1;32mdef\u001b[0m \u001b[0m_send_request\u001b[0m\u001b[1;33m(\u001b[0m\u001b[0mself\u001b[0m\u001b[1;33m,\u001b[0m \u001b[0mmethod\u001b[0m\u001b[1;33m,\u001b[0m \u001b[0murl\u001b[0m\u001b[1;33m,\u001b[0m \u001b[0mbody\u001b[0m\u001b[1;33m,\u001b[0m \u001b[0mheaders\u001b[0m\u001b[1;33m,\u001b[0m \u001b[0mencode_chunked\u001b[0m\u001b[1;33m)\u001b[0m\u001b[1;33m:\u001b[0m\u001b[1;33m\u001b[0m\u001b[0m\n",
      "\u001b[1;32mc:\\users\\modestasj\\appdata\\local\\programs\\python\\python36\\lib\\http\\client.py\u001b[0m in \u001b[0;36m_send_request\u001b[1;34m(self, method, url, body, headers, encode_chunked)\u001b[0m\n\u001b[0;32m   1283\u001b[0m             \u001b[1;31m# default charset of iso-8859-1.\u001b[0m\u001b[1;33m\u001b[0m\u001b[1;33m\u001b[0m\u001b[0m\n\u001b[0;32m   1284\u001b[0m             \u001b[0mbody\u001b[0m \u001b[1;33m=\u001b[0m \u001b[0m_encode\u001b[0m\u001b[1;33m(\u001b[0m\u001b[0mbody\u001b[0m\u001b[1;33m,\u001b[0m \u001b[1;34m'body'\u001b[0m\u001b[1;33m)\u001b[0m\u001b[1;33m\u001b[0m\u001b[0m\n\u001b[1;32m-> 1285\u001b[1;33m         \u001b[0mself\u001b[0m\u001b[1;33m.\u001b[0m\u001b[0mendheaders\u001b[0m\u001b[1;33m(\u001b[0m\u001b[0mbody\u001b[0m\u001b[1;33m,\u001b[0m \u001b[0mencode_chunked\u001b[0m\u001b[1;33m=\u001b[0m\u001b[0mencode_chunked\u001b[0m\u001b[1;33m)\u001b[0m\u001b[1;33m\u001b[0m\u001b[0m\n\u001b[0m\u001b[0;32m   1286\u001b[0m \u001b[1;33m\u001b[0m\u001b[0m\n\u001b[0;32m   1287\u001b[0m     \u001b[1;32mdef\u001b[0m \u001b[0mgetresponse\u001b[0m\u001b[1;33m(\u001b[0m\u001b[0mself\u001b[0m\u001b[1;33m)\u001b[0m\u001b[1;33m:\u001b[0m\u001b[1;33m\u001b[0m\u001b[0m\n",
      "\u001b[1;32mc:\\users\\modestasj\\appdata\\local\\programs\\python\\python36\\lib\\http\\client.py\u001b[0m in \u001b[0;36mendheaders\u001b[1;34m(self, message_body, encode_chunked)\u001b[0m\n\u001b[0;32m   1232\u001b[0m         \u001b[1;32melse\u001b[0m\u001b[1;33m:\u001b[0m\u001b[1;33m\u001b[0m\u001b[0m\n\u001b[0;32m   1233\u001b[0m             \u001b[1;32mraise\u001b[0m \u001b[0mCannotSendHeader\u001b[0m\u001b[1;33m(\u001b[0m\u001b[1;33m)\u001b[0m\u001b[1;33m\u001b[0m\u001b[0m\n\u001b[1;32m-> 1234\u001b[1;33m         \u001b[0mself\u001b[0m\u001b[1;33m.\u001b[0m\u001b[0m_send_output\u001b[0m\u001b[1;33m(\u001b[0m\u001b[0mmessage_body\u001b[0m\u001b[1;33m,\u001b[0m \u001b[0mencode_chunked\u001b[0m\u001b[1;33m=\u001b[0m\u001b[0mencode_chunked\u001b[0m\u001b[1;33m)\u001b[0m\u001b[1;33m\u001b[0m\u001b[0m\n\u001b[0m\u001b[0;32m   1235\u001b[0m \u001b[1;33m\u001b[0m\u001b[0m\n\u001b[0;32m   1236\u001b[0m     def request(self, method, url, body=None, headers={}, *,\n",
      "\u001b[1;32mc:\\users\\modestasj\\appdata\\local\\programs\\python\\python36\\lib\\http\\client.py\u001b[0m in \u001b[0;36m_send_output\u001b[1;34m(self, message_body, encode_chunked)\u001b[0m\n\u001b[0;32m   1024\u001b[0m         \u001b[0mmsg\u001b[0m \u001b[1;33m=\u001b[0m \u001b[1;34mb\"\\r\\n\"\u001b[0m\u001b[1;33m.\u001b[0m\u001b[0mjoin\u001b[0m\u001b[1;33m(\u001b[0m\u001b[0mself\u001b[0m\u001b[1;33m.\u001b[0m\u001b[0m_buffer\u001b[0m\u001b[1;33m)\u001b[0m\u001b[1;33m\u001b[0m\u001b[0m\n\u001b[0;32m   1025\u001b[0m         \u001b[1;32mdel\u001b[0m \u001b[0mself\u001b[0m\u001b[1;33m.\u001b[0m\u001b[0m_buffer\u001b[0m\u001b[1;33m[\u001b[0m\u001b[1;33m:\u001b[0m\u001b[1;33m]\u001b[0m\u001b[1;33m\u001b[0m\u001b[0m\n\u001b[1;32m-> 1026\u001b[1;33m         \u001b[0mself\u001b[0m\u001b[1;33m.\u001b[0m\u001b[0msend\u001b[0m\u001b[1;33m(\u001b[0m\u001b[0mmsg\u001b[0m\u001b[1;33m)\u001b[0m\u001b[1;33m\u001b[0m\u001b[0m\n\u001b[0m\u001b[0;32m   1027\u001b[0m \u001b[1;33m\u001b[0m\u001b[0m\n\u001b[0;32m   1028\u001b[0m         \u001b[1;32mif\u001b[0m \u001b[0mmessage_body\u001b[0m \u001b[1;32mis\u001b[0m \u001b[1;32mnot\u001b[0m \u001b[1;32mNone\u001b[0m\u001b[1;33m:\u001b[0m\u001b[1;33m\u001b[0m\u001b[0m\n",
      "\u001b[1;32mc:\\users\\modestasj\\appdata\\local\\programs\\python\\python36\\lib\\http\\client.py\u001b[0m in \u001b[0;36msend\u001b[1;34m(self, data)\u001b[0m\n\u001b[0;32m    962\u001b[0m         \u001b[1;32mif\u001b[0m \u001b[0mself\u001b[0m\u001b[1;33m.\u001b[0m\u001b[0msock\u001b[0m \u001b[1;32mis\u001b[0m \u001b[1;32mNone\u001b[0m\u001b[1;33m:\u001b[0m\u001b[1;33m\u001b[0m\u001b[0m\n\u001b[0;32m    963\u001b[0m             \u001b[1;32mif\u001b[0m \u001b[0mself\u001b[0m\u001b[1;33m.\u001b[0m\u001b[0mauto_open\u001b[0m\u001b[1;33m:\u001b[0m\u001b[1;33m\u001b[0m\u001b[0m\n\u001b[1;32m--> 964\u001b[1;33m                 \u001b[0mself\u001b[0m\u001b[1;33m.\u001b[0m\u001b[0mconnect\u001b[0m\u001b[1;33m(\u001b[0m\u001b[1;33m)\u001b[0m\u001b[1;33m\u001b[0m\u001b[0m\n\u001b[0m\u001b[0;32m    965\u001b[0m             \u001b[1;32melse\u001b[0m\u001b[1;33m:\u001b[0m\u001b[1;33m\u001b[0m\u001b[0m\n\u001b[0;32m    966\u001b[0m                 \u001b[1;32mraise\u001b[0m \u001b[0mNotConnected\u001b[0m\u001b[1;33m(\u001b[0m\u001b[1;33m)\u001b[0m\u001b[1;33m\u001b[0m\u001b[0m\n",
      "\u001b[1;32mc:\\users\\modestasj\\appdata\\local\\programs\\python\\python36\\lib\\http\\client.py\u001b[0m in \u001b[0;36mconnect\u001b[1;34m(self)\u001b[0m\n\u001b[0;32m   1398\u001b[0m \u001b[1;33m\u001b[0m\u001b[0m\n\u001b[0;32m   1399\u001b[0m             self.sock = self._context.wrap_socket(self.sock,\n\u001b[1;32m-> 1400\u001b[1;33m                                                   server_hostname=server_hostname)\n\u001b[0m\u001b[0;32m   1401\u001b[0m             \u001b[1;32mif\u001b[0m \u001b[1;32mnot\u001b[0m \u001b[0mself\u001b[0m\u001b[1;33m.\u001b[0m\u001b[0m_context\u001b[0m\u001b[1;33m.\u001b[0m\u001b[0mcheck_hostname\u001b[0m \u001b[1;32mand\u001b[0m \u001b[0mself\u001b[0m\u001b[1;33m.\u001b[0m\u001b[0m_check_hostname\u001b[0m\u001b[1;33m:\u001b[0m\u001b[1;33m\u001b[0m\u001b[0m\n\u001b[0;32m   1402\u001b[0m                 \u001b[1;32mtry\u001b[0m\u001b[1;33m:\u001b[0m\u001b[1;33m\u001b[0m\u001b[0m\n",
      "\u001b[1;32mc:\\users\\modestasj\\appdata\\local\\programs\\python\\python36\\lib\\ssl.py\u001b[0m in \u001b[0;36mwrap_socket\u001b[1;34m(self, sock, server_side, do_handshake_on_connect, suppress_ragged_eofs, server_hostname, session)\u001b[0m\n\u001b[0;32m    399\u001b[0m                          \u001b[0msuppress_ragged_eofs\u001b[0m\u001b[1;33m=\u001b[0m\u001b[0msuppress_ragged_eofs\u001b[0m\u001b[1;33m,\u001b[0m\u001b[1;33m\u001b[0m\u001b[0m\n\u001b[0;32m    400\u001b[0m                          \u001b[0mserver_hostname\u001b[0m\u001b[1;33m=\u001b[0m\u001b[0mserver_hostname\u001b[0m\u001b[1;33m,\u001b[0m\u001b[1;33m\u001b[0m\u001b[0m\n\u001b[1;32m--> 401\u001b[1;33m                          _context=self, _session=session)\n\u001b[0m\u001b[0;32m    402\u001b[0m \u001b[1;33m\u001b[0m\u001b[0m\n\u001b[0;32m    403\u001b[0m     def wrap_bio(self, incoming, outgoing, server_side=False,\n",
      "\u001b[1;32mc:\\users\\modestasj\\appdata\\local\\programs\\python\\python36\\lib\\ssl.py\u001b[0m in \u001b[0;36m__init__\u001b[1;34m(self, sock, keyfile, certfile, server_side, cert_reqs, ssl_version, ca_certs, do_handshake_on_connect, family, type, proto, fileno, suppress_ragged_eofs, npn_protocols, ciphers, server_hostname, _context, _session)\u001b[0m\n\u001b[0;32m    806\u001b[0m                         \u001b[1;31m# non-blocking\u001b[0m\u001b[1;33m\u001b[0m\u001b[1;33m\u001b[0m\u001b[0m\n\u001b[0;32m    807\u001b[0m                         \u001b[1;32mraise\u001b[0m \u001b[0mValueError\u001b[0m\u001b[1;33m(\u001b[0m\u001b[1;34m\"do_handshake_on_connect should not be specified for non-blocking sockets\"\u001b[0m\u001b[1;33m)\u001b[0m\u001b[1;33m\u001b[0m\u001b[0m\n\u001b[1;32m--> 808\u001b[1;33m                     \u001b[0mself\u001b[0m\u001b[1;33m.\u001b[0m\u001b[0mdo_handshake\u001b[0m\u001b[1;33m(\u001b[0m\u001b[1;33m)\u001b[0m\u001b[1;33m\u001b[0m\u001b[0m\n\u001b[0m\u001b[0;32m    809\u001b[0m \u001b[1;33m\u001b[0m\u001b[0m\n\u001b[0;32m    810\u001b[0m             \u001b[1;32mexcept\u001b[0m \u001b[1;33m(\u001b[0m\u001b[0mOSError\u001b[0m\u001b[1;33m,\u001b[0m \u001b[0mValueError\u001b[0m\u001b[1;33m)\u001b[0m\u001b[1;33m:\u001b[0m\u001b[1;33m\u001b[0m\u001b[0m\n",
      "\u001b[1;32mc:\\users\\modestasj\\appdata\\local\\programs\\python\\python36\\lib\\ssl.py\u001b[0m in \u001b[0;36mdo_handshake\u001b[1;34m(self, block)\u001b[0m\n\u001b[0;32m   1059\u001b[0m             \u001b[1;32mif\u001b[0m \u001b[0mtimeout\u001b[0m \u001b[1;33m==\u001b[0m \u001b[1;36m0.0\u001b[0m \u001b[1;32mand\u001b[0m \u001b[0mblock\u001b[0m\u001b[1;33m:\u001b[0m\u001b[1;33m\u001b[0m\u001b[0m\n\u001b[0;32m   1060\u001b[0m                 \u001b[0mself\u001b[0m\u001b[1;33m.\u001b[0m\u001b[0msettimeout\u001b[0m\u001b[1;33m(\u001b[0m\u001b[1;32mNone\u001b[0m\u001b[1;33m)\u001b[0m\u001b[1;33m\u001b[0m\u001b[0m\n\u001b[1;32m-> 1061\u001b[1;33m             \u001b[0mself\u001b[0m\u001b[1;33m.\u001b[0m\u001b[0m_sslobj\u001b[0m\u001b[1;33m.\u001b[0m\u001b[0mdo_handshake\u001b[0m\u001b[1;33m(\u001b[0m\u001b[1;33m)\u001b[0m\u001b[1;33m\u001b[0m\u001b[0m\n\u001b[0m\u001b[0;32m   1062\u001b[0m         \u001b[1;32mfinally\u001b[0m\u001b[1;33m:\u001b[0m\u001b[1;33m\u001b[0m\u001b[0m\n\u001b[0;32m   1063\u001b[0m             \u001b[0mself\u001b[0m\u001b[1;33m.\u001b[0m\u001b[0msettimeout\u001b[0m\u001b[1;33m(\u001b[0m\u001b[0mtimeout\u001b[0m\u001b[1;33m)\u001b[0m\u001b[1;33m\u001b[0m\u001b[0m\n",
      "\u001b[1;32mc:\\users\\modestasj\\appdata\\local\\programs\\python\\python36\\lib\\ssl.py\u001b[0m in \u001b[0;36mdo_handshake\u001b[1;34m(self)\u001b[0m\n\u001b[0;32m    681\u001b[0m     \u001b[1;32mdef\u001b[0m \u001b[0mdo_handshake\u001b[0m\u001b[1;33m(\u001b[0m\u001b[0mself\u001b[0m\u001b[1;33m)\u001b[0m\u001b[1;33m:\u001b[0m\u001b[1;33m\u001b[0m\u001b[0m\n\u001b[0;32m    682\u001b[0m         \u001b[1;34m\"\"\"Start the SSL/TLS handshake.\"\"\"\u001b[0m\u001b[1;33m\u001b[0m\u001b[0m\n\u001b[1;32m--> 683\u001b[1;33m         \u001b[0mself\u001b[0m\u001b[1;33m.\u001b[0m\u001b[0m_sslobj\u001b[0m\u001b[1;33m.\u001b[0m\u001b[0mdo_handshake\u001b[0m\u001b[1;33m(\u001b[0m\u001b[1;33m)\u001b[0m\u001b[1;33m\u001b[0m\u001b[0m\n\u001b[0m\u001b[0;32m    684\u001b[0m         \u001b[1;32mif\u001b[0m \u001b[0mself\u001b[0m\u001b[1;33m.\u001b[0m\u001b[0mcontext\u001b[0m\u001b[1;33m.\u001b[0m\u001b[0mcheck_hostname\u001b[0m\u001b[1;33m:\u001b[0m\u001b[1;33m\u001b[0m\u001b[0m\n\u001b[0;32m    685\u001b[0m             \u001b[1;32mif\u001b[0m \u001b[1;32mnot\u001b[0m \u001b[0mself\u001b[0m\u001b[1;33m.\u001b[0m\u001b[0mserver_hostname\u001b[0m\u001b[1;33m:\u001b[0m\u001b[1;33m\u001b[0m\u001b[0m\n",
      "\u001b[1;31mKeyboardInterrupt\u001b[0m: "
     ]
    }
   ],
   "source": [
    "geolocator.geocode(f\"Lietuva belgu g. 5 klaipeda\")"
   ]
  },
  {
   "cell_type": "code",
   "execution_count": null,
   "metadata": {
    "scrolled": true
   },
   "outputs": [],
   "source": [
    "import numpy as np\n",
    "\n",
    "COUNTRY = 'Lietuva'\n",
    "RETRIES = 3\n",
    "\n",
    "def get_latitude(case):\n",
    "    for i in range(RETRIES):\n",
    "        try:\n",
    "            return geolocator.geocode(case).latitude\n",
    "        except:\n",
    "            print(f\"Failed: {case}\")\n",
    "        \n",
    "    return np.nan\n",
    "\n",
    "def get_longitude(case):\n",
    "    for i in range(RETRIES):\n",
    "        try:\n",
    "            return geolocator.geocode(case).longitude\n",
    "        except:\n",
    "            print(f\"Failed: {case}\")\n",
    "        \n",
    "    return np.nan\n",
    "\n",
    "cases['Latitude'] = cases.apply(lambda x: get_latitude(f\"{x['addresses']}, {x['action_place_names']}, {x['city']}\"), axis=1)\n",
    "cases['Longitude'] = cases.apply(lambda x: get_longitude(f\"{x['addresses']}, {x['action_place_names']}, {x['city']}\"), axis=1)"
   ]
  },
  {
   "cell_type": "code",
   "execution_count": null,
   "metadata": {},
   "outputs": [],
   "source": [
    "unique_df = old_cases_df.drop_duplicates('address')"
   ]
  },
  {
   "cell_type": "code",
   "execution_count": null,
   "metadata": {
    "scrolled": true
   },
   "outputs": [],
   "source": [
    "address_longitudes = {key: val for key, val in zip(unique_df['address'].values, unique_df['longitude'].values)}\n",
    "address_latitudes = {key: val for key, val in zip(unique_df['address'].values, unique_df['latitude'].values)}\n",
    "cases['latitude'] = cases.apply(lambda x: address_latitudes.get(re.sub(' +', ' ', x['addresses']), x['Latitude']), axis=1)\n",
    "cases['longitude'] = cases.apply(lambda x: address_longitudes.get(re.sub(' +', ' ', x['addresses']), x['Longitude']), axis=1)"
   ]
  },
  {
   "cell_type": "code",
   "execution_count": null,
   "metadata": {
    "scrolled": true
   },
   "outputs": [],
   "source": [
    "cases['Time'] = cases.apply(lambda x: f\"{x['dates']} {x['time']}\" if not pd.isna(x['time']) else f\"{x['dates']} 12:00\", axis=1)"
   ]
  },
  {
   "cell_type": "code",
   "execution_count": null,
   "metadata": {
    "scrolled": true
   },
   "outputs": [],
   "source": [
    "cases.to_csv('ready_for_fix.csv', encoding='utf-8-sig')"
   ]
  },
  {
   "cell_type": "code",
   "execution_count": null,
   "metadata": {},
   "outputs": [],
   "source": [
    "fixed_cases = pd.read_csv('ready_for_fix.csv', encoding='utf-8-sig')"
   ]
  },
  {
   "cell_type": "code",
   "execution_count": null,
   "metadata": {},
   "outputs": [],
   "source": [
    "fixed_cases.dropna(subset=['case_id'])"
   ]
  },
  {
   "cell_type": "code",
   "execution_count": null,
   "metadata": {},
   "outputs": [],
   "source": [
    "import pytz\n",
    "from datetime import timedelta, datetime\n",
    "\n",
    "local = pytz.timezone(\"EET\")\n",
    "\n",
    "local_dt = local.localize(datetime.today() + timedelta(hours=2), is_dst=None)\n",
    "utc_dt = local_dt.astimezone(pytz.utc)\n",
    "\n",
    "print(local_dt)\n",
    "utc_dt"
   ]
  },
  {
   "cell_type": "code",
   "execution_count": null,
   "metadata": {},
   "outputs": [],
   "source": [
    "fixed_cases = fixed_cases.dropna(subset=['case_id'])"
   ]
  },
  {
   "cell_type": "code",
   "execution_count": null,
   "metadata": {
    "scrolled": true
   },
   "outputs": [],
   "source": [
    "from datetime import datetime\n",
    "\n",
    "t1 = datetime.timestamp(datetime.now())\n",
    "\n",
    "datetime.fromtimestamp(t1)\n",
    "\n",
    "fixed_cases[\"timestamp\"] = pd.to_datetime(fixed_cases[\"Time\"])\n",
    "fixed_cases[\"timestamp\"] = fixed_cases[\"timestamp\"].apply(lambda x: local.localize(x, is_dst=None).astimezone(pytz.utc))\n",
    "\n",
    "fixed_cases[\"timestamp\"] = fixed_cases[\"timestamp\"].apply(lambda x: datetime.timestamp(x))\n",
    "#cases[\"timestamp\"] = \n",
    "fixed_cases"
   ]
  },
  {
   "cell_type": "code",
   "execution_count": null,
   "metadata": {
    "scrolled": true
   },
   "outputs": [],
   "source": [
    "fixed_cases = fixed_cases.rename({\"Unnamed: 0\": \"id\"}, axis=1)\n",
    "fixed_cases['id'] = np.arange(240, len(fixed_cases)+240)"
   ]
  },
  {
   "cell_type": "code",
   "execution_count": null,
   "metadata": {
    "scrolled": true
   },
   "outputs": [],
   "source": [
    "fixed_cases"
   ]
  },
  {
   "cell_type": "code",
   "execution_count": null,
   "metadata": {},
   "outputs": [],
   "source": [
    "fixed_cases = fixed_cases[[\"id\",\"addresses\",\"action_place_names\",\"city\",\"Time\",\"latitude\",\"longitude\",\"timestamp\"]]"
   ]
  },
  {
   "cell_type": "code",
   "execution_count": null,
   "metadata": {},
   "outputs": [],
   "source": [
    "fixed_cases.to_csv(\"../covid-cases-coordinates.csv\", index=False)"
   ]
  },
  {
   "cell_type": "code",
   "execution_count": null,
   "metadata": {
    "scrolled": true
   },
   "outputs": [],
   "source": [
    "fixed_cases"
   ]
  },
  {
   "cell_type": "code",
   "execution_count": null,
   "metadata": {
    "scrolled": true
   },
   "outputs": [],
   "source": [
    "fixed_cases = fixed_cases.rename(columns={\n",
    "    \"addresses\":\"address\",\n",
    "    \"action_place_names\":\"name\",\n",
    "    \"city\":\"city\",\n",
    "    \"Time\":\"time\",\n",
    "    \"latitude\":\"latitude\",\n",
    "    \"longitude\":\"longitude\"\n",
    "})\n",
    "fixed_cases.to_json(\"../covid-cases-coordinates.json\", orient=\"records\")"
   ]
  },
  {
   "cell_type": "code",
   "execution_count": 107,
   "metadata": {},
   "outputs": [],
   "source": [
    "import json"
   ]
  },
  {
   "cell_type": "code",
   "execution_count": 108,
   "metadata": {},
   "outputs": [
    {
     "data": {
      "text/plain": [
       "'[{\"id\": 240, \"addresses\": \"Oro uosto g. 4\", \"action_place_names\": \"Kauno oro uostas\", \"city\": \"Kaunas\", \"Time\": \"2/19/2020 12:00\", \"latitude\": 54.967318000000006, \"longitude\": 24.073773000000003, \"timestamp\": 1582106400.0}, {\"id\": 241, \"addresses\": \"Oro uosto g. 4\", \"action_place_names\": \"Kauno oro uostas\", \"city\": \"Kaunas\", \"Time\": \"3/14/2020 20:00\", \"latitude\": 54.967318000000006, \"longitude\": 24.073773000000003, \"timestamp\": 1584208800.0}, {\"id\": 242, \"addresses\": \"V. Kudirkos  g. 99\", \"action_place_names\": \"Respublikinė Šiaulių ligoninė\", \"city\": \"Šiauliai\", \"Time\": \"3/17/2020 19:00\", \"latitude\": 55.94290225, \"longitude\": 23.3032079, \"timestamp\": 1584464400.0}, {\"id\": 243, \"addresses\": \"Rodūnios kl. 10A\", \"action_place_names\": \"Vilniaus oro uostas\", \"city\": \"Vilnius\", \"Time\": \"3/13/2020 10:30\", \"latitude\": 54.6430534, \"longitude\": 25.2810443, \"timestamp\": 1584088200.0}, {\"id\": 244, \"addresses\": \"Vilniaus  g. 47B\", \"action_place_names\": \"Norfa\", \"city\": \"Joniškis\", \"Time\": \"3/14/2020 16:00\", \"latitude\": 56.2279963, \"longitude\": 23.604748899999997, \"timestamp\": 1584194400.0}, {\"id\": 245, \"addresses\": \"Vilniaus  g. 40\", \"action_place_names\": \"Senukai\", \"city\": \"Joniškis\", \"Time\": \"3/15/2020 12:00\", \"latitude\": 56.231699600000006, \"longitude\": 23.6058, \"timestamp\": 1584266400.0}, {\"id\": 246, \"addresses\": \"Vytauto  g. 51\", \"action_place_names\": \"Palangos Švč. Mergelės Marijos Ėmimo į dangų bažnyčia\", \"city\": \"Palanga\", \"Time\": \"3/14/2020 15:00\", \"latitude\": 55.9177779, \"longitude\": 21.0658336, \"timestamp\": 1584190800.0}, {\"id\": 247, \"addresses\": \"Venecijos  akl. 2\", \"action_place_names\": \"Atostogų parke\", \"city\": \"Žibininkų k.,\", \"Time\": \"3/14/2020 12:00\", \"latitude\": 55.95819, \"longitude\": 21.124457800000002, \"timestamp\": 1584180000.0}, {\"id\": 248, \"addresses\": \"V. Kudirkos  g. 99\", \"action_place_names\": \"Respublikinė Šiaulių ligoninė\", \"city\": \"Šiauliai\", \"Time\": \"3/21/2020 12:00\", \"latitude\": 55.94290225, \"longitude\": 23.3032079, \"timestamp\": 1584784800.0}, {\"id\": 249, \"addresses\": \"Rodūnios kl. 10A\", \"action_place_names\": \"Vilniaus oro uostas\", \"city\": \"Vilnius\", \"Time\": \"3/13/2020 10:30\", \"latitude\": 54.6430534, \"longitude\": 25.2810443, \"timestamp\": 1584088200.0}, {\"id\": 250, \"addresses\": \"Venecijos  akl. 2\", \"action_place_names\": \"Atostogų parke\", \"city\": \"Žibininkų k.,\", \"Time\": \"3/14/2020 12:00\", \"latitude\": 55.95819, \"longitude\": 21.124457800000002, \"timestamp\": 1584180000.0}, {\"id\": 251, \"addresses\": \"Vytauto  g. 101\", \"action_place_names\": \"Šiaulių centro poliklinika\", \"city\": \"Šiauliai\", \"Time\": \"3/20/2020 12:00\", \"latitude\": 55.928490599999996, \"longitude\": 23.3132677, \"timestamp\": 1584698400.0}, {\"id\": 252, \"addresses\": \"Rodūnios kl. 10A\", \"action_place_names\": \"Vilniaus oro uostas\", \"city\": \"Vilnius\", \"Time\": \"3/13/2020 10:30\", \"latitude\": 54.6430534, \"longitude\": 25.2810443, \"timestamp\": 1584088200.0}, {\"id\": 253, \"addresses\": \"Vytauto  g. 51\", \"action_place_names\": \"Palangos Švč. Mergelės Marijos Ėmimo į dangų bažnyčia\", \"city\": \"Palanga\", \"Time\": \"3/14/2020 15:00\", \"latitude\": 55.9177779, \"longitude\": 21.0658336, \"timestamp\": 1584190800.0}, {\"id\": 254, \"addresses\": \"Venecijos  akl. 2\", \"action_place_names\": \"Atostogų parke\", \"city\": \"Žibininkų k.,\", \"Time\": \"3/14/2020 12:00\", \"latitude\": 55.95819, \"longitude\": 21.124457800000002, \"timestamp\": 1584180000.0}, {\"id\": 255, \"addresses\": \"Upytės  g. 19\", \"action_place_names\": \"Maxima\", \"city\": \"Joniškis\", \"Time\": \"3/18/2020 12:00\", \"latitude\": 56.2399637, \"longitude\": 23.6199564, \"timestamp\": 1584525600.0}, {\"id\": 256, \"addresses\": \"Vytauto  g. 51\", \"action_place_names\": \"Palangos Švč. Mergelės Marijos Ėmimo į dangų bažnyčia\", \"city\": \"Palanga\", \"Time\": \"3/14/2020 15:00\", \"latitude\": 55.9177779, \"longitude\": 21.0658336, \"timestamp\": 1584190800.0}, {\"id\": 257, \"addresses\": \"Venecijos  akl. 2\", \"action_place_names\": \"Atostogų parke\", \"city\": \"Žibininkų k.,\", \"Time\": \"3/14/2020 12:00\", \"latitude\": 55.95819, \"longitude\": 21.124457800000002, \"timestamp\": 1584180000.0}, {\"id\": 258, \"addresses\": \"Vytauto  g. 51\", \"action_place_names\": \"Palangos Švč. Mergelės Marijos Ėmimo į dangų bažnyčia\", \"city\": \"Palanga\", \"Time\": \"3/14/2020 15:00\", \"latitude\": 55.9177779, \"longitude\": 21.0658336, \"timestamp\": 1584190800.0}, {\"id\": 259, \"addresses\": \"Venecijos  akl. 2\", \"action_place_names\": \"Atostogų parke\", \"city\": \"Žibininkų k.,\", \"Time\": \"3/14/2020 12:00\", \"latitude\": 55.95819, \"longitude\": 21.124457800000002, \"timestamp\": 1584180000.0}, {\"id\": 260, \"addresses\": \"Vytauto  g. 51\", \"action_place_names\": \"Palangos Švč. Mergelės Marijos Ėmimo į dangų bažnyčia\", \"city\": \"Palanga\", \"Time\": \"3/14/2020 15:00\", \"latitude\": 55.9177779, \"longitude\": 21.0658336, \"timestamp\": 1584190800.0}, {\"id\": 261, \"addresses\": \"Venecijos  akl. 2\", \"action_place_names\": \"Atostogų parke\", \"city\": \"Žibininkų k.,\", \"Time\": \"3/14/2020 12:00\", \"latitude\": 55.95819, \"longitude\": 21.124457800000002, \"timestamp\": 1584180000.0}, {\"id\": 262, \"addresses\": \"Rodūnios kl. 10A\", \"action_place_names\": \"Vilniaus oro uostas\", \"city\": \"Vilnius\", \"Time\": \"3/13/2020 10:30\", \"latitude\": 54.6430534, \"longitude\": 25.2810443, \"timestamp\": 1584088200.0}, {\"id\": 263, \"addresses\": \"V. Kudirkos  g. 99\", \"action_place_names\": \"Respublikinė Šiaulių ligoninė\", \"city\": \"Šiauliai\", \"Time\": \"3/25/2020 12:00\", \"latitude\": 55.94290225, \"longitude\": 23.3032079, \"timestamp\": 1585130400.0}, {\"id\": 264, \"addresses\": \"V. Kudirkos  g. 99\", \"action_place_names\": \"Respublikinė Šiaulių ligoninė\", \"city\": \"Šiauliai\", \"Time\": \"3/27/2020 12:00\", \"latitude\": 55.94290225, \"longitude\": 23.3032079, \"timestamp\": 1585303200.0}, {\"id\": 265, \"addresses\": \"Baltijos pr. 40\", \"action_place_names\": \"Klaipėdos jūrų uostas\", \"city\": \"Klaipėda\", \"Time\": \"3/27/2020 12:00\", \"latitude\": 55.6854645, \"longitude\": 21.1411822, \"timestamp\": 1585303200.0}, {\"id\": 266, \"addresses\": \"V. Kudirkos  g. 99\", \"action_place_names\": \"Respublikinė Šiaulių Ligoninė\", \"city\": \"Šiauliai\", \"Time\": \"3/29/2020 12:00\", \"latitude\": 55.94290225, \"longitude\": 23.3032079, \"timestamp\": 1585472400.0}, {\"id\": 267, \"addresses\": \"Oro uosto g. 4\", \"action_place_names\": \"Kauno oro uostas\", \"city\": \"Kaunas\", \"Time\": \"3/24/2020 12:00\", \"latitude\": 54.967318000000006, \"longitude\": 24.073773000000003, \"timestamp\": 1585044000.0}, {\"id\": 268, \"addresses\": \"Venecijos  akl. 2\", \"action_place_names\": \"Atostogų parką\", \"city\": \"Žibininkų k.,\", \"Time\": \"3/14/2020 15:00\", \"latitude\": 55.95819, \"longitude\": 21.124457800000002, \"timestamp\": 1584190800.0}, {\"id\": 269, \"addresses\": \"Oro uosto g. 4\", \"action_place_names\": \"Kauno oro uostas\", \"city\": \"Kaunas\", \"Time\": \"3/14/2020 18:00\", \"latitude\": 54.967318000000006, \"longitude\": 24.073773000000003, \"timestamp\": 1584201600.0}, {\"id\": 270, \"addresses\": \"Pulko  g. 51\", \"action_place_names\": \"Rimi\", \"city\": \"Alytus\", \"Time\": \"3/25/2020 15:30\", \"latitude\": 54.3878596, \"longitude\": 24.04393183, \"timestamp\": 1585143000.0}, {\"id\": 271, \"addresses\": \"Naujoji  g. 2c.\", \"action_place_names\": \"IKI\", \"city\": \"Alytus\", \"Time\": \"3/22/2020 12:00\", \"latitude\": NaN, \"longitude\": NaN, \"timestamp\": 1584871200.0}, {\"id\": 272, \"addresses\": \"Liepojos pl. 1\", \"action_place_names\": \"Palangos oro uostas\", \"city\": \"Palanga\", \"Time\": \"3/17/2020 18:00\", \"latitude\": 55.97145935, \"longitude\": 21.09728937, \"timestamp\": 1584460800.0}, {\"id\": 273, \"addresses\": \"Liepojos pl. 1\", \"action_place_names\": \"Palangos oro uostas\", \"city\": \"Palanga\", \"Time\": \"3/24/2020 18:00\", \"latitude\": 55.97145935, \"longitude\": 21.09728937, \"timestamp\": 1585065600.0}, {\"id\": 274, \"addresses\": \"Liepojos pl. 1\", \"action_place_names\": \"Palangos oro uostas\", \"city\": \"Palanga\", \"Time\": \"3/24/2020 18:00\", \"latitude\": 55.97145935, \"longitude\": 21.09728937, \"timestamp\": 1585065600.0}, {\"id\": 275, \"addresses\": \"Baltijos pr. 40\", \"action_place_names\": \"Klaipėdos jūrų uostas\", \"city\": \"Klaipėda\", \"Time\": \"3/17/2020 12:00\", \"latitude\": 55.6854645, \"longitude\": 21.1411822, \"timestamp\": 1584439200.0}, {\"id\": 276, \"addresses\": \"Statybininkų  pr.\", \"action_place_names\": \"Grūstė\", \"city\": \"Klaipėda\", \"Time\": \"3/18/2020 12:00\", \"latitude\": 55.6746394, \"longitude\": 21.174147199999997, \"timestamp\": 1584525600.0}, {\"id\": 277, \"addresses\": \"Taikos  pr. 141\", \"action_place_names\": \"Maxima\", \"city\": \"Klaipėda\", \"Time\": \"3/29/2020 12:00\", \"latitude\": 55.6633801, \"longitude\": 21.1778914, \"timestamp\": 1585472400.0}, {\"id\": 278, \"addresses\": \"Rodūnios kl. 10A\", \"action_place_names\": \"Vilniaus oro uostas\", \"city\": \"Vilnius\", \"Time\": \"3/24/2020 14:00\", \"latitude\": 54.6430534, \"longitude\": 25.2810443, \"timestamp\": 1585051200.0}, {\"id\": 279, \"addresses\": \"Naujoji  g. 4\", \"action_place_names\": \"Varduvos\", \"city\": \"Mažeikiai\", \"Time\": \"3/14/2020 12:00\", \"latitude\": 56.3163304, \"longitude\": 22.292084600000003, \"timestamp\": 1584180000.0}, {\"id\": 280, \"addresses\": \"Oro uosto g. 4\", \"action_place_names\": \"Kauno oro uostas\", \"city\": \"Kaunas\", \"Time\": \"3/24/2020 12:00\", \"latitude\": 54.967318000000006, \"longitude\": 24.073773000000003, \"timestamp\": 1585044000.0}, {\"id\": 281, \"addresses\": \"Rodūnios kl. 10A\", \"action_place_names\": \"Vilniaus oro uostas\", \"city\": \"Vilnius\", \"Time\": \"3/16/2020 12:00\", \"latitude\": 54.6430534, \"longitude\": 25.2810443, \"timestamp\": 1584352800.0}, {\"id\": 282, \"addresses\": \"Lidl Dūkštų  g. 34\", \"action_place_names\": \"Lidl\", \"city\": \"Vilnius AKTUALU IKI\", \"Time\": \"3/17/2020 20:00\", \"latitude\": 54.71210010000001, \"longitude\": 25.2401687, \"timestamp\": 1584468000.0}, {\"id\": 283, \"addresses\": \"Bijola Žygio  g. 90\", \"action_place_names\": \"Biloja\", \"city\": \"Vilnius.\", \"Time\": \"3/20/2020 12:00\", \"latitude\": 54.7097427, \"longitude\": 25.293761399999998, \"timestamp\": 1584698400.0}, {\"id\": 284, \"addresses\": \"Respublikos a. 11\", \"action_place_names\": \"Aibė\", \"city\": \"Kavarsakas\", \"Time\": \"3/18/2020 12:00\", \"latitude\": 55.4335801, \"longitude\": 24.9265183, \"timestamp\": 1584525600.0}, {\"id\": 285, \"addresses\": \"Alyvų  g. 8\", \"action_place_names\": \"Alaus kelias\", \"city\": \"Biržų k.\", \"Time\": \"3/12/2020 13:00\", \"latitude\": 56.2077348, \"longitude\": 24.7235244, \"timestamp\": 1584010800.0}, {\"id\": 286, \"addresses\": \"Respublikos  g. 2E\", \"action_place_names\": \"Norfa\", \"city\": \"Biržai.\", \"Time\": \"3/13/2020 12:00\", \"latitude\": 56.193684, \"longitude\": 24.7692689, \"timestamp\": 1584093600.0}, {\"id\": 287, \"addresses\": \"Vilniaus  g. 115\", \"action_place_names\": \"Biržų Ligoninė\", \"city\": \"Biržai.\", \"Time\": \"3/15/2020 8:30\", \"latitude\": 56.188583200000004, \"longitude\": 24.75922925, \"timestamp\": 1584253800.0}, {\"id\": 288, \"addresses\": \"Vytauto  g. 114\", \"action_place_names\": \"Autoservisas\", \"city\": \"Biržai.\", \"Time\": \"3/13/2020 12:00\", \"latitude\": 56.202352000000005, \"longitude\": 24.7572535, \"timestamp\": 1584093600.0}, {\"id\": 289, \"addresses\": \"Plento  g. 27B\", \"action_place_names\": \"Techninės apžiūros stotis\", \"city\": \"Biržai.\", \"Time\": \"3/19/2020 15:00\", \"latitude\": 56.185736399999996, \"longitude\": 24.742548100000004, \"timestamp\": 1584622800.0}, {\"id\": 290, \"addresses\": \"Rodūnios kl. 10A\", \"action_place_names\": \"Vilniaus oro uostas\", \"city\": \"Vilnius\", \"Time\": \"3/19/2020 12:00\", \"latitude\": 54.6430534, \"longitude\": 25.2810443, \"timestamp\": 1584612000.0}, {\"id\": 291, \"addresses\": \"Rodūnios kl. 10A\", \"action_place_names\": \"Vilniaus oro uostas\", \"city\": \"Vilnius\", \"Time\": \"3/19/2020 12:00\", \"latitude\": 54.6430534, \"longitude\": 25.2810443, \"timestamp\": 1584612000.0}, {\"id\": 292, \"addresses\": \"Vytauto  pr. 24\", \"action_place_names\": \"Vaistinė\", \"city\": \"Kaunas\", \"Time\": \"3/26/2020 12:00\", \"latitude\": 54.88943149999999, \"longitude\": 23.9281647, \"timestamp\": 1585216800.0}, {\"id\": 293, \"addresses\": \"Rodūnios kl. 10A\", \"action_place_names\": \"Vilniaus oro uostas\", \"city\": \"Vilnius\", \"Time\": \"3/24/2020 20:00\", \"latitude\": 54.6430534, \"longitude\": 25.2810443, \"timestamp\": 1585072800.0}, {\"id\": 294, \"addresses\": \"Venecijos  akl. 2\", \"action_place_names\": \"Atostogų parkas\", \"city\": \"Žibininkų k.,\", \"Time\": \"3/14/2020 15:00\", \"latitude\": 55.95819, \"longitude\": 21.124457800000002, \"timestamp\": 1584190800.0}, {\"id\": 295, \"addresses\": \"Oro uosto g. 4\", \"action_place_names\": \"Kauno oro uostas\", \"city\": \"Kaunas\", \"Time\": \"3/14/2020 12:00\", \"latitude\": 54.967318000000006, \"longitude\": 24.073773000000003, \"timestamp\": 1584180000.0}, {\"id\": 296, \"addresses\": \"Rodūnios kl. 10A\", \"action_place_names\": \"Vilniaus oro uostas\", \"city\": \"Vilnius\", \"Time\": \"3/19/2020 12:00\", \"latitude\": 54.6430534, \"longitude\": 25.2810443, \"timestamp\": 1584612000.0}, {\"id\": 297, \"addresses\": \"Rodūnios kl. 10A\", \"action_place_names\": \"Vilniaus oro uostas\", \"city\": \"Vilnius\", \"Time\": \"3/19/2020 12:00\", \"latitude\": 54.6430534, \"longitude\": 25.2810443, \"timestamp\": 1584612000.0}, {\"id\": 298, \"addresses\": \"Rodūnios kl. 10A\", \"action_place_names\": \"Vilniaus oro uostas\", \"city\": \"Vilnius\", \"Time\": \"3/22/2020 19:00\", \"latitude\": 54.6430534, \"longitude\": 25.2810443, \"timestamp\": 1584896400.0}]'"
      ]
     },
     "execution_count": 108,
     "metadata": {},
     "output_type": "execute_result"
    }
   ],
   "source": [
    "json.dumps(fixed_cases.to_dict(orient=\"records\"), ensure_ascii=False)"
   ]
  },
  {
   "cell_type": "code",
   "execution_count": 88,
   "metadata": {},
   "outputs": [
    {
     "ename": "TypeError",
     "evalue": "to_dict() got an unexpected keyword argument 'ensure_ascii'",
     "output_type": "error",
     "traceback": [
      "\u001b[1;31m---------------------------------------------------------------------------\u001b[0m",
      "\u001b[1;31mTypeError\u001b[0m                                 Traceback (most recent call last)",
      "\u001b[1;32m<ipython-input-88-297b52abdcda>\u001b[0m in \u001b[0;36m<module>\u001b[1;34m\u001b[0m\n\u001b[1;32m----> 1\u001b[1;33m \u001b[0mfixed_cases\u001b[0m\u001b[1;33m.\u001b[0m\u001b[0mto_dict\u001b[0m\u001b[1;33m(\u001b[0m\u001b[0morient\u001b[0m\u001b[1;33m=\u001b[0m\u001b[1;34m\"records\"\u001b[0m\u001b[1;33m,\u001b[0m \u001b[0mensure_ascii\u001b[0m\u001b[1;33m=\u001b[0m\u001b[1;32mFalse\u001b[0m\u001b[1;33m)\u001b[0m\u001b[1;33m\u001b[0m\u001b[0m\n\u001b[0m",
      "\u001b[1;31mTypeError\u001b[0m: to_dict() got an unexpected keyword argument 'ensure_ascii'"
     ]
    }
   ],
   "source": [
    "fixed_cases.to_dict(orient=\"records\", ensure_ascii=False)"
   ]
  },
  {
   "cell_type": "code",
   "execution_count": null,
   "metadata": {},
   "outputs": [],
   "source": []
  }
 ],
 "metadata": {
  "kernelspec": {
   "display_name": "Python 3",
   "language": "python",
   "name": "python3"
  },
  "language_info": {
   "codemirror_mode": {
    "name": "ipython",
    "version": 3
   },
   "file_extension": ".py",
   "mimetype": "text/x-python",
   "name": "python",
   "nbconvert_exporter": "python",
   "pygments_lexer": "ipython3",
   "version": "3.6.0"
  }
 },
 "nbformat": 4,
 "nbformat_minor": 2
}
