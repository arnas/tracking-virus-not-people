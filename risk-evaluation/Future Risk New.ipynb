{
 "cells": [
  {
   "cell_type": "code",
   "execution_count": null,
   "metadata": {},
   "outputs": [],
   "source": [
    "import numpy as np"
   ]
  },
  {
   "cell_type": "code",
   "execution_count": null,
   "metadata": {},
   "outputs": [],
   "source": [
    "import matplotlib.pyplot as plt"
   ]
  },
  {
   "cell_type": "code",
   "execution_count": null,
   "metadata": {},
   "outputs": [],
   "source": [
    "max_probability_of_contact = 0.2\n",
    "max_probability_of_visiting_after_infected = 0.005\n",
    "max_probability_of_visiting_unsuspicious_shop = 0.03"
   ]
  },
  {
   "cell_type": "code",
   "execution_count": null,
   "metadata": {},
   "outputs": [],
   "source": [
    "def logistic_probability_same_time(number_of_minutes):\n",
    "    K=max_probability_of_contact\n",
    "    P=0.01\n",
    "    r=0.1\n",
    "    return (K*P)/(P+(K-P)*np.exp(-r*number_of_minutes))\n",
    "\n",
    "def logistic_probability_same_place_from_initial(number_of_minutes):\n",
    "    K=0.001\n",
    "    P=max_probability_of_visiting_after_infected\n",
    "    r=0.0001\n",
    "    return (K*P)/(P+(K-P)*np.exp(-r*number_of_minutes))\n",
    "\n",
    "def logistic_probability_visiting_a_shop(number_of_minutes):\n",
    "    K=max_probability_of_visiting_unsuspicious_shop\n",
    "    P=0.001\n",
    "    r=0.1\n",
    "    return (K*P)/(P+(K-P)*np.exp(-r*number_of_minutes))\n",
    "\n",
    "def compute_final_score(shop_visits_with_infected=[10, 30], random_shop_visits=[10, 60], visits_after_infected=[380, 120]):\n",
    "    not_infected_probs_actions = []\n",
    "    for passed_time in shop_visits_with_infected:\n",
    "        not_infected_probs_actions.append(1-logistic_probability_same_time(passed_time))\n",
    "    for passed_time in random_shop_visits:\n",
    "        not_infected_probs_actions.append(1-logistic_probability_visiting_a_shop(passed_time))\n",
    "    for passed_time in visits_after_infected:\n",
    "        not_infected_probs_actions.append(1-logistic_probability_same_place_from_initial(passed_time))\n",
    "    print(not_infected_probs_actions)\n",
    "    return 1 - np.prod(not_infected_probs_actions)"
   ]
  },
  {
   "cell_type": "code",
   "execution_count": null,
   "metadata": {},
   "outputs": [],
   "source": [
    "x = np.linspace(0, 120)\n",
    "y = logistic_probability_same_time(x)"
   ]
  },
  {
   "cell_type": "code",
   "execution_count": null,
   "metadata": {},
   "outputs": [],
   "source": [
    "plt.plot(x, y)\n",
    "plt.title('Probability of infection while in the same building over time')\n",
    "plt.show()"
   ]
  },
  {
   "cell_type": "code",
   "execution_count": null,
   "metadata": {},
   "outputs": [],
   "source": [
    "x = np.linspace(0, 24*60)\n",
    "y = logistic_probability_same_place_from_initial(x)"
   ]
  },
  {
   "cell_type": "code",
   "execution_count": null,
   "metadata": {
    "scrolled": true
   },
   "outputs": [],
   "source": [
    "plt.plot(x, y)\n",
    "plt.title('Probability of infection visiting place after infected person over time')\n",
    "plt.show()"
   ]
  },
  {
   "cell_type": "code",
   "execution_count": null,
   "metadata": {},
   "outputs": [],
   "source": [
    "x = np.linspace(0, 120)\n",
    "y = logistic_probability_visiting_a_shop(x)"
   ]
  },
  {
   "cell_type": "code",
   "execution_count": null,
   "metadata": {},
   "outputs": [],
   "source": [
    "plt.plot(x, y)\n",
    "plt.title('Probability of infection visiting place over time')\n",
    "plt.show()"
   ]
  },
  {
   "cell_type": "code",
   "execution_count": null,
   "metadata": {},
   "outputs": [],
   "source": [
    "covid_cases_data_path = 'covid-cases-coordinates.csv'"
   ]
  },
  {
   "cell_type": "code",
   "execution_count": null,
   "metadata": {
    "scrolled": true
   },
   "outputs": [],
   "source": [
    "import pandas as pd\n",
    "from datetime import datetime\n",
    "user_data = pd.read_csv('user_data.csv')\n",
    "covid_data = pd.read_csv(covid_cases_data_path, encoding='latin')"
   ]
  },
  {
   "cell_type": "code",
   "execution_count": null,
   "metadata": {},
   "outputs": [],
   "source": [
    "def get_visited_public_places(user_data, past_number_of_weeks):\n",
    "    curr_date = datetime.now()\n",
    "    user_data['number_of_days_passed'] = user_data['visit_start_time'].apply(lambda x: (curr_date - datetime.fromtimestamp(x/1000)).days)\n",
    "    user_data = add_required_time_information(user_data)\n",
    "    home_addresses = get_possible_work_and_home_places(user_data)\n",
    "    visited_public_places = get_public_places_visited_per_weeks(user_data, past_number_of_weeks, home_addresses)\n",
    "    return visited_public_places"
   ]
  },
  {
   "cell_type": "code",
   "execution_count": null,
   "metadata": {},
   "outputs": [],
   "source": [
    "def get_public_places_visited_per_weeks(user_data, past_number_of_weeks, home_addresses):\n",
    "     user_data = get_last_days_data(user_data, past_number_of_weeks*7)\n",
    "     return user_data[~user_data['name'].isin(home_addresses)]"
   ]
  },
  {
   "cell_type": "code",
   "execution_count": null,
   "metadata": {},
   "outputs": [],
   "source": [
    "def get_last_days_data(user_data, number_of_days):\n",
    "    return user_data[user_data['number_of_days_passed'] <= number_of_days].sort_values('number_of_days_passed')"
   ]
  },
  {
   "cell_type": "code",
   "execution_count": null,
   "metadata": {},
   "outputs": [],
   "source": [
    "def get_possible_work_and_home_places(user_data):\n",
    "    long_time_locations = user_data[user_data['time_spent_in_location'] > 4]['name'].unique()\n",
    "    percentage_of_time_spent_per_location = user_data.groupby('name').apply(lambda x: sum(x['time_spent_in_location'])).sort_values()/sum(user_data['time_spent_in_location'])\n",
    "    work_home_addresses = [location for location in long_time_locations if percentage_of_time_spent_per_location[location] > 0.1]\n",
    "    print(work_home_addresses)\n",
    "    return work_home_addresses"
   ]
  },
  {
   "cell_type": "code",
   "execution_count": null,
   "metadata": {},
   "outputs": [],
   "source": [
    "def add_required_time_information(user_data):\n",
    "    user_data['time_spent_in_location'] = user_data.apply(lambda x: (datetime.fromtimestamp(x['visit_end_time']//1000) - datetime.fromtimestamp(x['visit_start_time']//1000)).seconds/60, axis=1)\n",
    "    return user_data"
   ]
  },
  {
   "cell_type": "code",
   "execution_count": null,
   "metadata": {},
   "outputs": [],
   "source": [
    "visited_places = get_visited_public_places(user_data, 4)"
   ]
  },
  {
   "cell_type": "code",
   "execution_count": null,
   "metadata": {},
   "outputs": [],
   "source": [
    "max_probability_of_contact = 0.2\n",
    "max_probability_of_visiting_after_infected = 0.005\n",
    "max_probability_of_visiting_unsuspicious_shop = 0.003"
   ]
  },
  {
   "cell_type": "code",
   "execution_count": null,
   "metadata": {},
   "outputs": [],
   "source": [
    "compute_final_score(shop_visits_with_infected=[], random_shop_visits=visited_places['time_spent_in_location'].tolist(), visits_after_infected=[200])"
   ]
  },
  {
   "cell_type": "code",
   "execution_count": null,
   "metadata": {},
   "outputs": [],
   "source": []
  },
  {
   "cell_type": "code",
   "execution_count": null,
   "metadata": {},
   "outputs": [],
   "source": []
  }
 ],
 "metadata": {
  "kernelspec": {
   "display_name": "Python 3",
   "language": "python",
   "name": "python3"
  },
  "language_info": {
   "codemirror_mode": {
    "name": "ipython",
    "version": 3
   },
   "file_extension": ".py",
   "mimetype": "text/x-python",
   "name": "python",
   "nbconvert_exporter": "python",
   "pygments_lexer": "ipython3",
   "version": "3.6.0"
  }
 },
 "nbformat": 4,
 "nbformat_minor": 2
}
